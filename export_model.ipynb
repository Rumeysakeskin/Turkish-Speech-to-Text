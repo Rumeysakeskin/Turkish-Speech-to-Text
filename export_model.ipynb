{
 "cells": [
  {
   "cell_type": "code",
   "execution_count": null,
   "id": "8a28289e",
   "metadata": {},
   "outputs": [],
   "source": [
    "import nemo.collections.asr as nemo_asr\n",
    "from ruamel.yaml import YAML\n",
    "from omegaconf import DictConfig\n",
    "import numpy as np\n",
    "from nemo.collections.asr.models.ctc_models import EncDecCTCModel\n",
    "from nemo.collections.asr.metrics import wer\n",
    "import tempfile\n",
    "import os\n",
    "import json\n",
    "import torch"
   ]
  },
  {
   "cell_type": "markdown",
   "id": "564fec2a",
   "metadata": {},
   "source": [
    "# Load fined-tuned model checkpoint"
   ]
  },
  {
   "cell_type": "code",
   "execution_count": null,
   "id": "c49669c7",
   "metadata": {},
   "outputs": [],
   "source": [
    "model_to_load = \"/TURKISH_FINETUNING_Quartznet5x5_models/epoch=XX-step=XXXXXX.ckpt\"\n",
    "\n",
    "stt_config_path = \"/configs/quartznet5x5.yaml\"\n",
    "\n",
    "yaml = YAML(typ='safe')\n",
    "with open(stt_config_path, encoding=\"utf-8\") as f:\n",
    "    params = yaml.load(f)\n",
    "\n",
    "params['model']['train_ds']['manifest_filepath'] = \"/data/train_manifest.jsonl\"\n",
    "params['model']['validation_ds']['manifest_filepath'] = \"/data/val_manifest.jsonl\"\n",
    "first_asr_model = nemo_asr.models.EncDecCTCModel(cfg=DictConfig(params['model']))\n",
    "first_asr_model = first_asr_model.load_from_checkpoint(model_to_load)\n",
    "first_asr_model.eval()"
   ]
  },
  {
   "cell_type": "markdown",
   "id": "4915778e",
   "metadata": {},
   "source": [
    "# Export onnx model to inference"
   ]
  },
  {
   "cell_type": "code",
   "execution_count": null,
   "id": "334a2499",
   "metadata": {},
   "outputs": [],
   "source": [
    "filename = \"turkish_fine-tuned_model.onnx\"\n",
    "first_asr_model.export(output=filename)"
   ]
  }
 ],
 "metadata": {
  "kernelspec": {
   "display_name": "Python 3 (ipykernel)",
   "language": "python",
   "name": "python3"
  },
  "language_info": {
   "codemirror_mode": {
    "name": "ipython",
    "version": 3
   },
   "file_extension": ".py",
   "mimetype": "text/x-python",
   "name": "python",
   "nbconvert_exporter": "python",
   "pygments_lexer": "ipython3",
   "version": "3.9.7"
  }
 },
 "nbformat": 4,
 "nbformat_minor": 5
}
