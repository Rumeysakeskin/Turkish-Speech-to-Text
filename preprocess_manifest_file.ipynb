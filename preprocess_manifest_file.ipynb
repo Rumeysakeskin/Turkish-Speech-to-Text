{
 "cells": [
  {
   "cell_type": "markdown",
   "id": "dfed2c3f",
   "metadata": {},
   "source": [
    "• TAKE SAMPLES SHORTER THAN 25 SECONDS\n",
    "\n",
    "• LOWERCASE ALL TRANSCRIPTS\n",
    "\n",
    "• TEXT NORMALIZATION "
   ]
  },
  {
   "cell_type": "markdown",
   "id": "a03140dd",
   "metadata": {},
   "source": [
    "# Adjust audio filepath and check filepaths exist"
   ]
  },
  {
   "cell_type": "code",
   "execution_count": null,
   "id": "4fd63030",
   "metadata": {},
   "outputs": [],
   "source": [
    "import json \n",
    "import re \n",
    "\n",
    "file = \"train_data.json\"\n",
    "file_out = \"new_train_data.jsonl\"\n",
    "\n",
    "total_duration = 0\n",
    "\n",
    "with open(file, \"r\", encoding=\"utf-8\") as fin:\n",
    "    with open(file_out, 'w', encoding=\"utf-8\") as fout:\n",
    "     \n",
    "        for line in fin:\n",
    "            original_file_json = json.loads(line)\n",
    "\n",
    "            original_file_json[\"audio_filepath\"] = re.sub('/old/filepath/', '/new/filepath/', original_file_json[\"audio_filepath\"])   \n",
    "            \n",
    "            # TODO: TAKE SAMPLES SHORTER THAN 25 SECONDS.\n",
    "            if  original_file_json[\"duration\"] < 25:\n",
    "                \n",
    "                # TODO: TRAINING DATA HOURS\n",
    "                total_duration += original_file_json[\"duration\"]\n",
    "                \n",
    "                json.dump(original_file_json, fout, ensure_ascii=False)\n",
    "                fout.write('\\n')\n",
    "           \n",
    "                isFile = os.path.isfile(original_file_json[\"audio_filepath\"]) \n",
    "                if isFile is False:\n",
    "                    print(\"This file does not exist:\",original_file_json[\"audio_filepath\"])                           "
   ]
  },
  {
   "cell_type": "markdown",
   "id": "183113b4",
   "metadata": {},
   "source": [
    "# Total training data hours"
   ]
  },
  {
   "cell_type": "code",
   "execution_count": 15,
   "id": "ff270e92",
   "metadata": {},
   "outputs": [
    {
     "data": {
      "text/plain": [
       "279.6507413888864"
      ]
     },
     "execution_count": 15,
     "metadata": {},
     "output_type": "execute_result"
    }
   ],
   "source": [
    "total_duration/3600                      "
   ]
  }
 ],
 "metadata": {
  "kernelspec": {
   "display_name": "uluc_nemo",
   "language": "python",
   "name": "uluc_nemo"
  },
  "language_info": {
   "codemirror_mode": {
    "name": "ipython",
    "version": 3
   },
   "file_extension": ".py",
   "mimetype": "text/x-python",
   "name": "python",
   "nbconvert_exporter": "python",
   "pygments_lexer": "ipython3",
   "version": "3.7.9"
  }
 },
 "nbformat": 4,
 "nbformat_minor": 5
}
